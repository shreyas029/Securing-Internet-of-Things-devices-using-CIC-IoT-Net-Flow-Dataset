{
  "nbformat": 4,
  "nbformat_minor": 0,
  "metadata": {
    "colab": {
      "provenance": [],
      "gpuType": "T4"
    },
    "kernelspec": {
      "name": "python3",
      "display_name": "Python 3"
    },
    "language_info": {
      "name": "python"
    },
    "accelerator": "GPU"
  },
  "cells": [
    {
      "cell_type": "code",
      "source": [
        "from google.colab import drive\n",
        "drive.mount('/content/drive')"
      ],
      "metadata": {
        "colab": {
          "base_uri": "https://localhost:8080/"
        },
        "id": "A9N0kDeFXRmC",
        "outputId": "22292f02-3d14-45e6-9804-b25d07f86bb6"
      },
      "execution_count": null,
      "outputs": [
        {
          "output_type": "stream",
          "name": "stdout",
          "text": [
            "Drive already mounted at /content/drive; to attempt to forcibly remount, call drive.mount(\"/content/drive\", force_remount=True).\n"
          ]
        }
      ]
    },
    {
      "cell_type": "code",
      "source": [
        "!ls \"/content/drive/MyDrive\""
      ],
      "metadata": {
        "colab": {
          "base_uri": "https://localhost:8080/"
        },
        "id": "8D2JK-B7XZcF",
        "outputId": "0a4976a3-0b41-44dd-a887-2476571cab82"
      },
      "execution_count": null,
      "outputs": [
        {
          "output_type": "stream",
          "name": "stdout",
          "text": [
            " 004-2AQL.pdf\n",
            " CiC-DataSet\n",
            "'Colab Notebooks'\n",
            "'Compare and contrast SIDS, AIDS and HIDS based on....gsheet'\n",
            "'CompTIA+Network++(N10-008)+(Study+Notes).pdf'\n",
            "'In a table, mention method, CVE number, severity....gsheet'\n",
            "'Include a summary table of the main devices makin....gsheet'\n",
            "'Include a table summarising the main characterist....gsheet'\n",
            " Project\n",
            "'provide information about sandboxes and also give....gsheet'\n",
            "'Shreyas Srinivasa - MSc CyberSecurity - Available Sept 2024.pdf'\n",
            "'Shreyas Srinivasa - MSc CyberSecurity.pdf'\n"
          ]
        }
      ]
    },
    {
      "cell_type": "code",
      "source": [
        "!ls \"/content/drive/MyDrive/CiC-DataSet\"\n",
        "!ls \"/content/drive/MyDrive/CiC-DataSet/Complete_Dataset\"\n",
        "!ls \"/content/drive/MyDrive/CiC-DataSet/Complete_Dataset/csv\"\n"
      ],
      "metadata": {
        "colab": {
          "base_uri": "https://localhost:8080/"
        },
        "id": "p_wD2ezAhRfS",
        "outputId": "7c937c32-408c-476c-f626-d7e7b2e297af"
      },
      "execution_count": null,
      "outputs": [
        {
          "output_type": "stream",
          "name": "stdout",
          "text": [
            "Complete_Dataset  merged_filtered.csv\n",
            " csv   example\t'README - README.pdf'   supplementary\n",
            " CICIoT2023  'README_csv - README.pdf'\n"
          ]
        }
      ]
    },
    {
      "cell_type": "code",
      "execution_count": null,
      "metadata": {
        "colab": {
          "base_uri": "https://localhost:8080/"
        },
        "id": "EfyWoPS4gkPb",
        "outputId": "98f3ed39-1070-46c0-8f54-f0569423e291"
      },
      "outputs": [
        {
          "output_type": "stream",
          "name": "stdout",
          "text": [
            "Mounted at /content/drive\n"
          ]
        },
        {
          "output_type": "stream",
          "name": "stderr",
          "text": [
            "Processing Training Sets: 100%|██████████| 135/135 [04:22<00:00,  1.94s/it]\n"
          ]
        }
      ],
      "source": [
        "import pandas as pd\n",
        "import numpy as np\n",
        "import os\n",
        "from tqdm import tqdm\n",
        "import warnings\n",
        "warnings.filterwarnings('ignore')\n",
        "from sklearn.linear_model import LogisticRegression\n",
        "from google.colab import drive\n",
        "from sklearn.preprocessing import MinMaxScaler, StandardScaler\n",
        "\n",
        "drive.mount('/content/drive', force_remount=True)\n",
        "\n",
        "\n",
        "DATASET_DIRECTORY = '/content/drive/MyDrive/CiC-DataSet/Complete_Dataset/csv/CICIoT2023'\n",
        "\n",
        "try:\n",
        "    df_sets = [k for k in os.listdir(DATASET_DIRECTORY) if k.endswith('.csv')]\n",
        "    if not df_sets:\n",
        "        print(\"No CSV files found in the specified directory.\")\n",
        "    df_sets.sort()\n",
        "except Exception as e:\n",
        "    print(f\"Error accessing directory: {e}\")\n",
        "\n",
        "training_sets = df_sets[:int(len(df_sets) * 0.8)]\n",
        "test_sets = df_sets[int(len(df_sets) * 0.8):]\n",
        "\n",
        "X_columns = [\n",
        "    'flow_duration', 'Header_Length', 'Protocol Type', 'Duration',\n",
        "    'Rate', 'Srate', 'Drate', 'fin_flag_number', 'syn_flag_number',\n",
        "    'rst_flag_number', 'psh_flag_number', 'ack_flag_number',\n",
        "    'ece_flag_number', 'cwr_flag_number', 'ack_count',\n",
        "    'syn_count', 'fin_count', 'urg_count', 'rst_count',\n",
        "    'HTTP', 'HTTPS', 'DNS', 'Telnet', 'SMTP', 'SSH', 'IRC', 'TCP',\n",
        "    'UDP', 'DHCP', 'ARP', 'ICMP', 'IPv', 'LLC', 'Tot sum', 'Min',\n",
        "    'Max', 'AVG', 'Std', 'Tot size', 'IAT', 'Number', 'Magnitue',\n",
        "    'Radius', 'Covariance', 'Variance', 'Weight',\n",
        "]\n",
        "y_column = 'label'\n",
        "\n",
        "\n",
        "\n",
        "for train_set in tqdm(training_sets, desc=\"Processing Training Sets\"):\n",
        "    file_path = os.path.join(DATASET_DIRECTORY, train_set)\n",
        "    try:\n",
        "        for chunk in pd.read_csv(file_path, usecols=X_columns, chunksize=5000):\n",
        "            scaler.partial_fit(chunk)\n",
        "    except Exception as e:\n",
        "        print(f\"Error processing file {train_set}: {e}\")\n"
      ]
    },
    {
      "cell_type": "markdown",
      "source": [
        "### Classification: 34 (33+1) classes"
      ],
      "metadata": {
        "id": "LPIeExJApOib"
      }
    },
    {
      "cell_type": "code",
      "source": [
        "import os\n",
        "from tqdm import tqdm\n",
        "from sklearn.linear_model import LogisticRegression\n",
        "\n",
        "ML_models = [\n",
        "    LogisticRegression(n_jobs=-1),\n",
        "]\n",
        "\n",
        "ML_names = [\n",
        "    \"LogisticRegression\",\n",
        "]\n",
        "\n",
        "for train_set in tqdm(training_sets):\n",
        "\n",
        "    file_path = os.path.join(DATASET_DIRECTORY, train_set)\n",
        "    d = pd.read_csv(file_path)\n",
        "\n",
        "\n",
        "    d[X_columns] = scaler.transform(d[X_columns])\n",
        "\n",
        "    for model in ML_models:\n",
        "        model.fit(d[X_columns], d[y_column])\n",
        "\n",
        "    del d\n"
      ],
      "metadata": {
        "colab": {
          "base_uri": "https://localhost:8080/"
        },
        "id": "xlac3q61pPWI",
        "outputId": "8c641f06-00a8-4235-c7b6-9abde8e64561"
      },
      "execution_count": null,
      "outputs": [
        {
          "output_type": "stream",
          "name": "stderr",
          "text": [
            "100%|██████████| 135/135 [1:33:48<00:00, 41.69s/it]\n"
          ]
        }
      ]
    },
    {
      "cell_type": "code",
      "source": [
        "import os\n",
        "from tqdm import tqdm\n",
        "import pandas as pd\n",
        "from sklearn.linear_model import LogisticRegression\n",
        "\n",
        "ML_models = [\n",
        "    LogisticRegression(n_jobs=-1),\n",
        "]\n",
        "\n",
        "ML_names = [\n",
        "    \"LogisticRegression\",\n",
        "]\n",
        "\n",
        "for train_set in tqdm(training_sets):\n",
        "    file_path = os.path.join(DATASET_DIRECTORY, train_set)\n",
        "    d_train = pd.read_csv(file_path)\n",
        "\n",
        "    d_train[X_columns] = scaler.transform(d_train[X_columns])\n",
        "\n",
        "    for model in ML_models:\n",
        "        model.fit(d_train[X_columns], d_train[y_column])\n",
        "\n",
        "    del d_train\n",
        "\n",
        "y_test = []\n",
        "preds = {i: [] for i in range(len(ML_models))}\n",
        "\n",
        "for test_set in tqdm(test_sets):\n",
        "    file_path = os.path.join(DATASET_DIRECTORY, test_set)\n",
        "    d_test = pd.read_csv(file_path)\n",
        "\n",
        "\n",
        "    d_test[X_columns] = scaler.transform(d_test[X_columns])\n",
        "\n",
        "    y_test += list(d_test[y_column].values)\n",
        "\n",
        "    for i, model in enumerate(ML_models):\n",
        "        y_pred = list(model.predict(d_test[X_columns]))\n",
        "        preds[i].extend(y_pred)\n"
      ],
      "metadata": {
        "id": "doK0jSTdAWL2",
        "colab": {
          "base_uri": "https://localhost:8080/"
        },
        "outputId": "4bbde408-ee9c-4b7e-8f3f-f4a5f73f5bfd"
      },
      "execution_count": null,
      "outputs": [
        {
          "output_type": "stream",
          "name": "stderr",
          "text": [
            "100%|██████████| 135/135 [1:33:53<00:00, 41.73s/it]\n",
            "100%|██████████| 34/34 [01:32<00:00,  2.72s/it]\n"
          ]
        }
      ]
    },
    {
      "cell_type": "code",
      "source": [
        "import os\n",
        "from tqdm import tqdm\n",
        "import pandas as pd\n",
        "from sklearn.linear_model import LogisticRegression\n",
        "from sklearn.metrics import accuracy_score, recall_score, precision_score, f1_score\n",
        "\n",
        "\n",
        "ML_models = [\n",
        "    LogisticRegression(n_jobs=-1),\n",
        "]\n",
        "\n",
        "ML_names = [\n",
        "    \"LogisticRegression\",\n",
        "]\n",
        "\n",
        "\n",
        "for train_set in tqdm(training_sets):\n",
        "    file_path = os.path.join(DATASET_DIRECTORY, train_set)\n",
        "    d_train = pd.read_csv(file_path)\n",
        "\n",
        "\n",
        "    d_train[X_columns] = scaler.transform(d_train[X_columns])\n",
        "\n",
        "    for model in ML_models:\n",
        "        model.fit(d_train[X_columns], d_train[y_column])\n",
        "\n",
        "    del d_train\n",
        "\n",
        "y_test = []\n",
        "preds = {i: [] for i in range(len(ML_models))}\n",
        "\n",
        "for test_set in tqdm(test_sets):\n",
        "    file_path = os.path.join(DATASET_DIRECTORY, test_set)\n",
        "    d_test = pd.read_csv(file_path)\n",
        "\n",
        "    d_test[X_columns] = scaler.transform(d_test[X_columns])\n",
        "\n",
        "    y_test += list(d_test[y_column].values)\n",
        "\n",
        "    for i, model in enumerate(ML_models):\n",
        "        y_pred = list(model.predict(d_test[X_columns]))\n",
        "        preds[i].extend(y_pred)\n",
        "\n",
        "# Evaluation phase\n",
        "for k, v in preds.items():\n",
        "    y_pred = v\n",
        "    print(f\"##### {ML_names[k]} #####\")\n",
        "    print('Accuracy Score: ', accuracy_score(y_test, y_pred))\n",
        "    print('Recall Score: ', recall_score(y_test, y_pred, average='macro'))\n",
        "    print('Precision Score: ', precision_score(y_test, y_pred, average='macro'))\n",
        "    print('F1 Score: ', f1_score(y_test, y_pred, average='macro'))\n",
        "    print(\"\\n\")\n"
      ],
      "metadata": {
        "id": "gTz7IyksWPF2",
        "colab": {
          "base_uri": "https://localhost:8080/"
        },
        "outputId": "9d18b012-3cc6-4419-a936-5cb7f8c57e9d"
      },
      "execution_count": null,
      "outputs": [
        {
          "output_type": "stream",
          "name": "stderr",
          "text": [
            "100%|██████████| 135/135 [1:33:16<00:00, 41.45s/it]\n",
            "100%|██████████| 34/34 [01:33<00:00,  2.75s/it]\n"
          ]
        },
        {
          "output_type": "stream",
          "name": "stdout",
          "text": [
            "##### LogisticRegression #####\n",
            "Accuracy Score:  0.8018318090018134\n",
            "Recall Score:  0.485280915659017\n",
            "Precision Score:  0.5949782762031056\n",
            "F1 Score:  0.4912848311505882\n",
            "\n",
            "\n"
          ]
        }
      ]
    },
    {
      "cell_type": "code",
      "source": [
        "import matplotlib.pyplot as plt\n",
        "from sklearn.metrics import accuracy_score, recall_score, precision_score, f1_score\n",
        "\n",
        "\n",
        "def plot_metrics(metrics, values, model_name):\n",
        "    \"\"\"\n",
        "    Function to plot performance metrics.\n",
        "    \"\"\"\n",
        "    colors = ['green', 'brown', 'grey', 'red']\n",
        "\n",
        "    plt.figure(figsize=(8, 5))\n",
        "    plt.bar(metrics, values, color=colors, alpha=0.7)\n",
        "    plt.ylim(0, 1)  # Metrics range from 0 to 1\n",
        "    plt.title(f\"Performance Metrics for {model_name}\")\n",
        "    plt.ylabel(\"Score\")\n",
        "    plt.xlabel(\"Metrics\")\n",
        "\n",
        "    for i, value in enumerate(values):\n",
        "        plt.text(i, value + 0.02, f\"{value:.2f}\", ha='center', fontsize=10)\n",
        "\n",
        "    plt.grid(axis='y', linestyle='--', alpha=0.6)\n",
        "    plt.show()\n",
        "\n",
        "for k, v in preds.items():\n",
        "    y_pred = v\n",
        "\n",
        "    acc = accuracy_score(y_test, y_pred)\n",
        "    rec = recall_score(y_test, y_pred, average='macro')\n",
        "    prec = precision_score(y_test, y_pred, average='macro')\n",
        "    f1 = f1_score(y_test, y_pred, average='macro')\n",
        "\n",
        "    metrics = ['Accuracy', 'Recall', 'Precision', 'F1 Score']\n",
        "    values = [acc, rec, prec, f1]\n",
        "\n",
        "    plot_metrics(metrics, values, ML_names[k])"
      ],
      "metadata": {
        "colab": {
          "base_uri": "https://localhost:8080/",
          "height": 487
        },
        "id": "ebAOXrs_QO7W",
        "outputId": "5341f114-c9f0-4320-a9df-c806412f8e8d"
      },
      "execution_count": null,
      "outputs": [
        {
          "output_type": "display_data",
          "data": {
            "text/plain": [
              "<Figure size 800x500 with 1 Axes>"
            ],
            "image/png": "[encoded data removed]"
          },
          "metadata": {}
        }
      ]
    },
    {
      "cell_type": "markdown",
      "source": [
        "# Classification: 8 (7+1) classes"
      ],
      "metadata": {
        "id": "4TIOXWqnzAq9"
      }
    },
    {
      "cell_type": "code",
      "source": [
        "dict_7classes = {}\n",
        "dict_7classes['DDoS-RSTFINFlood'] = 'DDoS'\n",
        "dict_7classes['DDoS-PSHACK_Flood'] = 'DDoS'\n",
        "dict_7classes['DDoS-SYN_Flood'] = 'DDoS'\n",
        "dict_7classes['DDoS-UDP_Flood'] = 'DDoS'\n",
        "dict_7classes['DDoS-TCP_Flood'] = 'DDoS'\n",
        "dict_7classes['DDoS-ICMP_Flood'] = 'DDoS'\n",
        "dict_7classes['DDoS-SynonymousIP_Flood'] = 'DDoS'\n",
        "dict_7classes['DDoS-ACK_Fragmentation'] = 'DDoS'\n",
        "dict_7classes['DDoS-UDP_Fragmentation'] = 'DDoS'\n",
        "dict_7classes['DDoS-ICMP_Fragmentation'] = 'DDoS'\n",
        "dict_7classes['DDoS-SlowLoris'] = 'DDoS'\n",
        "dict_7classes['DDoS-HTTP_Flood'] = 'DDoS'\n",
        "\n",
        "dict_7classes['DoS-UDP_Flood'] = 'DoS'\n",
        "dict_7classes['DoS-SYN_Flood'] = 'DoS'\n",
        "dict_7classes['DoS-TCP_Flood'] = 'DoS'\n",
        "dict_7classes['DoS-HTTP_Flood'] = 'DoS'\n",
        "\n",
        "\n",
        "dict_7classes['Mirai-greeth_flood'] = 'Mirai'\n",
        "dict_7classes['Mirai-greip_flood'] = 'Mirai'\n",
        "dict_7classes['Mirai-udpplain'] = 'Mirai'\n",
        "\n",
        "dict_7classes['Recon-PingSweep'] = 'Recon'\n",
        "dict_7classes['Recon-OSScan'] = 'Recon'\n",
        "dict_7classes['Recon-PortScan'] = 'Recon'\n",
        "dict_7classes['VulnerabilityScan'] = 'Recon'\n",
        "dict_7classes['Recon-HostDiscovery'] = 'Recon'\n",
        "\n",
        "dict_7classes['DNS_Spoofing'] = 'Spoofing'\n",
        "dict_7classes['MITM-ArpSpoofing'] = 'Spoofing'\n",
        "\n",
        "dict_7classes['BenignTraffic'] = 'Benign'\n",
        "\n",
        "dict_7classes['BrowserHijacking'] = 'Web'\n",
        "dict_7classes['Backdoor_Malware'] = 'Web'\n",
        "dict_7classes['XSS'] = 'Web'\n",
        "dict_7classes['Uploading_Attack'] = 'Web'\n",
        "dict_7classes['SqlInjection'] = 'Web'\n",
        "dict_7classes['CommandInjection'] = 'Web'\n",
        "\n",
        "\n",
        "dict_7classes['DictionaryBruteForce'] = 'BruteForce'"
      ],
      "metadata": {
        "id": "gNyyvxq4zBnO"
      },
      "execution_count": null,
      "outputs": []
    },
    {
      "cell_type": "code",
      "source": [
        "for train_set in tqdm(training_sets):\n",
        "    file_path = os.path.join(DATASET_DIRECTORY, train_set)\n",
        "    if not os.path.exists(file_path):\n",
        "        print(f\"File not found: {file_path}\")\n",
        "        continue\n",
        "\n",
        "    try:\n",
        "        d = pd.read_csv(file_path)\n",
        "        d[X_columns] = scaler.transform(d[X_columns])\n",
        "        new_y = [dict_7classes[k] for k in d[y_column]]\n",
        "        d[y_column] = new_y\n",
        "\n",
        "        for model in ML_models:\n",
        "            model.fit(d[X_columns], d[y_column])\n",
        "        del d\n",
        "    except Exception as e:\n",
        "        print(f\"Error processing {file_path}: {e}\")"
      ],
      "metadata": {
        "id": "2idndjiJ0HXw",
        "colab": {
          "base_uri": "https://localhost:8080/"
        },
        "outputId": "bd5cbd51-5207-4387-f434-42e643fe2656"
      },
      "execution_count": null,
      "outputs": [
        {
          "output_type": "stream",
          "name": "stderr",
          "text": [
            "100%|██████████| 135/135 [34:08<00:00, 15.18s/it]\n"
          ]
        }
      ]
    },
    {
      "cell_type": "code",
      "source": [
        "y_test = []\n",
        "preds = {i: [] for i in range(len(ML_models))}\n",
        "\n",
        "for test_set in tqdm(test_sets):\n",
        "\n",
        "    file_path = os.path.join(DATASET_DIRECTORY, test_set)\n",
        "\n",
        "    if not os.path.exists(file_path):\n",
        "        print(f\"File not found: {file_path}\")\n",
        "        continue\n",
        "\n",
        "    try:\n",
        "        d_test = pd.read_csv(file_path)\n",
        "        d_test[X_columns] = scaler.transform(d_test[X_columns])\n",
        "        new_y = [dict_7classes[k] for k in d_test[y_column]]\n",
        "        d_test[y_column] = new_y\n",
        "\n",
        "        y_test += list(d_test[y_column].values)\n",
        "\n",
        "        for i, model in enumerate(ML_models):\n",
        "            y_pred = list(model.predict(d_test[X_columns]))\n",
        "            preds[i].extend(y_pred)\n",
        "    except Exception as e:\n",
        "        print(f\"Error processing {file_path}: {e}\")\n"
      ],
      "metadata": {
        "id": "sq_KJTC78pEo",
        "colab": {
          "base_uri": "https://localhost:8080/"
        },
        "outputId": "8c89cae6-cf97-4adf-be57-11643b7658d0"
      },
      "execution_count": null,
      "outputs": [
        {
          "output_type": "stream",
          "name": "stderr",
          "text": [
            "100%|██████████| 34/34 [01:32<00:00,  2.71s/it]\n"
          ]
        }
      ]
    },
    {
      "cell_type": "code",
      "source": [
        "from sklearn.metrics import accuracy_score, recall_score, precision_score, f1_score\n",
        "for k,v in preds.items():\n",
        "    y_pred = v\n",
        "    print(f\"##### {ML_names[k]} (8 classes) #####\")\n",
        "    print('Accuracy Score = ', accuracy_score(y_pred, y_test))\n",
        "    print('Recall Score = ', recall_score(y_pred, y_test, average='macro'))\n",
        "    print('Precision Score = ', precision_score(y_pred, y_test, average='macro'))\n",
        "    print('F1 Score = ', f1_score(y_pred, y_test, average='macro'))\n",
        "    print()\n",
        "    print()\n",
        "    print()"
      ],
      "metadata": {
        "id": "7_2S99fi8863",
        "colab": {
          "base_uri": "https://localhost:8080/"
        },
        "outputId": "39f08e40-ce29-4252-d3d0-d8578ef364d1"
      },
      "execution_count": null,
      "outputs": [
        {
          "output_type": "stream",
          "name": "stdout",
          "text": [
            "##### LogisticRegression (8 classes) #####\n",
            "Accuracy Score =  0.8314706124982\n",
            "Recall Score =  0.6831711618042706\n",
            "Precision Score =  0.5108819896711103\n",
            "F1 Score =  0.537237291622334\n",
            "\n",
            "\n",
            "\n"
          ]
        }
      ]
    },
    {
      "cell_type": "code",
      "source": [
        "import matplotlib.pyplot as plt\n",
        "from sklearn.metrics import accuracy_score, recall_score, precision_score, f1_score\n",
        "\n",
        "def plot_metrics(metrics, values, model_name):\n",
        "    \"\"\"\n",
        "    Function to plot performance metrics.\n",
        "    \"\"\"\n",
        "    colors = ['green', 'brown', 'grey', 'red']\n",
        "\n",
        "    plt.figure(figsize=(8, 5))\n",
        "    plt.bar(metrics, values, color=colors, alpha=0.7)\n",
        "    plt.ylim(0, 1)\n",
        "    plt.title(f\"Performance Metrics for {model_name}\")\n",
        "    plt.ylabel(\"Score\")\n",
        "    plt.xlabel(\"Metrics\")\n",
        "\n",
        "    for i, value in enumerate(values):\n",
        "        plt.text(i, value + 0.02, f\"{value:.2f}\", ha='center', fontsize=10)\n",
        "\n",
        "    plt.grid(axis='y', linestyle='--', alpha=0.6)\n",
        "    plt.show()\n",
        "\n",
        "for k, v in preds.items():\n",
        "    y_pred = v\n",
        "\n",
        "    acc = accuracy_score(y_test, y_pred)\n",
        "    rec = recall_score(y_test, y_pred, average='macro')\n",
        "    prec = precision_score(y_test, y_pred, average='macro')\n",
        "    f1 = f1_score(y_test, y_pred, average='macro')\n",
        "\n",
        "    metrics = ['Accuracy', 'Recall', 'Precision', 'F1 Score']\n",
        "    values = [acc, rec, prec, f1]\n",
        "\n",
        "    plot_metrics(metrics, values, ML_names[k])"
      ],
      "metadata": {
        "colab": {
          "base_uri": "https://localhost:8080/",
          "height": 487
        },
        "id": "5l-wowAbU-rL",
        "outputId": "c875faf9-ecf1-4974-a74d-86b36df32213"
      },
      "execution_count": null,
      "outputs": [
        {
          "output_type": "display_data",
          "data": {
            "text/plain": [
              "<Figure size 800x500 with 1 Axes>"
            ],
            "image/png": "[encoded data removed]"
          },
          "metadata": {}
        }
      ]
    },
    {
      "cell_type": "markdown",
      "source": [
        "# Classification: 2 (1+1) Classes\n"
      ],
      "metadata": {
        "id": "ZqkHScTl_GY2"
      }
    },
    {
      "cell_type": "code",
      "source": [
        "dict_2classes = {}\n",
        "dict_2classes['DDoS-RSTFINFlood'] = 'Attack'\n",
        "dict_2classes['DDoS-PSHACK_Flood'] = 'Attack'\n",
        "dict_2classes['DDoS-SYN_Flood'] = 'Attack'\n",
        "dict_2classes['DDoS-UDP_Flood'] = 'Attack'\n",
        "dict_2classes['DDoS-TCP_Flood'] = 'Attack'\n",
        "dict_2classes['DDoS-ICMP_Flood'] = 'Attack'\n",
        "dict_2classes['DDoS-SynonymousIP_Flood'] = 'Attack'\n",
        "dict_2classes['DDoS-ACK_Fragmentation'] = 'Attack'\n",
        "dict_2classes['DDoS-UDP_Fragmentation'] = 'Attack'\n",
        "dict_2classes['DDoS-ICMP_Fragmentation'] = 'Attack'\n",
        "dict_2classes['DDoS-SlowLoris'] = 'Attack'\n",
        "dict_2classes['DDoS-HTTP_Flood'] = 'Attack'\n",
        "\n",
        "dict_2classes['DoS-UDP_Flood'] = 'Attack'\n",
        "dict_2classes['DoS-SYN_Flood'] = 'Attack'\n",
        "dict_2classes['DoS-TCP_Flood'] = 'Attack'\n",
        "dict_2classes['DoS-HTTP_Flood'] = 'Attack'\n",
        "\n",
        "\n",
        "dict_2classes['Mirai-greeth_flood'] = 'Attack'\n",
        "dict_2classes['Mirai-greip_flood'] = 'Attack'\n",
        "dict_2classes['Mirai-udpplain'] = 'Attack'\n",
        "\n",
        "dict_2classes['Recon-PingSweep'] = 'Attack'\n",
        "dict_2classes['Recon-OSScan'] = 'Attack'\n",
        "dict_2classes['Recon-PortScan'] = 'Attack'\n",
        "dict_2classes['VulnerabilityScan'] = 'Attack'\n",
        "dict_2classes['Recon-HostDiscovery'] = 'Attack'\n",
        "\n",
        "dict_2classes['DNS_Spoofing'] = 'Attack'\n",
        "dict_2classes['MITM-ArpSpoofing'] = 'Attack'\n",
        "\n",
        "dict_2classes['BenignTraffic'] = 'Benign'\n",
        "\n",
        "dict_2classes['BrowserHijacking'] = 'Attack'\n",
        "dict_2classes['Backdoor_Malware'] = 'Attack'\n",
        "dict_2classes['XSS'] = 'Attack'\n",
        "dict_2classes['Uploading_Attack'] = 'Attack'\n",
        "dict_2classes['SqlInjection'] = 'Attack'\n",
        "dict_2classes['CommandInjection'] = 'Attack'\n",
        "\n",
        "dict_2classes['DictionaryBruteForce'] = 'Attack'"
      ],
      "metadata": {
        "id": "REM8Vv4k_MUd"
      },
      "execution_count": null,
      "outputs": []
    },
    {
      "cell_type": "code",
      "source": [
        "import os\n",
        "from tqdm import tqdm\n",
        "import pandas as pd\n",
        "from sklearn.linear_model import LogisticRegression\n",
        "\n",
        "ML_models = [\n",
        "    LogisticRegression(n_jobs=-1),\n",
        "]\n",
        "\n",
        "ML_names = [\n",
        "    \"LogisticRegression\",\n",
        "]\n",
        "\n",
        "for train_set in tqdm(training_sets):\n",
        "\n",
        "    file_path = os.path.join(DATASET_DIRECTORY, train_set)\n",
        "    d = pd.read_csv(file_path)\n",
        "\n",
        "    d[X_columns] = scaler.transform(d[X_columns])\n",
        "\n",
        "\n",
        "    new_y = [dict_2classes[k] for k in d[y_column]]\n",
        "    d[y_column] = new_y\n",
        "\n",
        "\n",
        "    for model in ML_models:\n",
        "        model.fit(d[X_columns], d[y_column])\n",
        "\n",
        "\n",
        "    del d\n"
      ],
      "metadata": {
        "id": "fntzK12d_Qph",
        "colab": {
          "base_uri": "https://localhost:8080/"
        },
        "outputId": "450d3717-d2a6-4d29-da10-3ddd0852e8d2"
      },
      "execution_count": null,
      "outputs": [
        {
          "output_type": "stream",
          "name": "stderr",
          "text": [
            "100%|██████████| 135/135 [15:28<00:00,  6.87s/it]\n"
          ]
        }
      ]
    },
    {
      "cell_type": "code",
      "source": [
        "import os\n",
        "from tqdm import tqdm\n",
        "\n",
        "y_test = []\n",
        "preds = {i: [] for i in range(len(ML_models))}\n",
        "\n",
        "for test_set in tqdm(test_sets):\n",
        "\n",
        "    file_path = os.path.join(DATASET_DIRECTORY, test_set)\n",
        "    d_test = pd.read_csv(file_path)\n",
        "\n",
        "    d_test[X_columns] = scaler.transform(d_test[X_columns])\n",
        "    new_y = [dict_2classes[k] for k in d_test[y_column]]\n",
        "    d_test[y_column] = new_y\n",
        "\n",
        "    y_test += list(d_test[y_column].values)\n",
        "\n",
        "    for i, model in enumerate(ML_models):\n",
        "        y_pred = list(model.predict(d_test[X_columns]))\n",
        "        preds[i].extend(y_pred)\n"
      ],
      "metadata": {
        "id": "gYBhS6UDC4pl",
        "colab": {
          "base_uri": "https://localhost:8080/"
        },
        "outputId": "9cd70827-ff5e-4ce2-8281-d269d6597830"
      },
      "execution_count": null,
      "outputs": [
        {
          "output_type": "stream",
          "name": "stderr",
          "text": [
            "100%|██████████| 34/34 [02:09<00:00,  3.81s/it]\n"
          ]
        }
      ]
    },
    {
      "cell_type": "code",
      "source": [
        "from sklearn.metrics import accuracy_score, recall_score, precision_score, f1_score\n",
        "for k,v in preds.items():\n",
        "    y_pred = v\n",
        "    print(f\"##### {ML_names[k]} (2 classes) #####\")\n",
        "    print('Accuracy Score: ', accuracy_score(y_pred, y_test))\n",
        "    print('Recall Score: ', recall_score(y_pred, y_test, average='macro'))\n",
        "    print('Precision Score: ', precision_score(y_pred, y_test, average='macro'))\n",
        "    print('F1 Score: ', f1_score(y_pred, y_test, average='macro'))\n",
        "    print()\n",
        "    print()\n",
        "    print()"
      ],
      "metadata": {
        "id": "Bc-um7gFDEvZ",
        "colab": {
          "base_uri": "https://localhost:8080/"
        },
        "outputId": "6e6a3dd9-033f-4958-9d11-ed91b190fe1e"
      },
      "execution_count": null,
      "outputs": [
        {
          "output_type": "stream",
          "name": "stdout",
          "text": [
            "##### LogisticRegression (2 classes) #####\n",
            "Accuracy Score:  0.9890278304177276\n",
            "Recall Score:  0.890443912103491\n",
            "Precision Score:  0.8632265127120491\n",
            "F1 Score:  0.8763159471404506\n",
            "\n",
            "\n",
            "\n"
          ]
        }
      ]
    },
    {
      "cell_type": "code",
      "source": [
        "import matplotlib.pyplot as plt\n",
        "from sklearn.metrics import accuracy_score, recall_score, precision_score, f1_score\n",
        "\n",
        "\n",
        "def plot_metrics(metrics, values, model_name):\n",
        "    \"\"\"\n",
        "    Function to plot performance metrics.\n",
        "    \"\"\"\n",
        "    colors = ['green', 'brown', 'grey', 'red']\n",
        "\n",
        "    plt.figure(figsize=(8, 5))\n",
        "    plt.bar(metrics, values, color=colors, alpha=0.7)\n",
        "    plt.ylim(0, 1)\n",
        "    plt.title(f\"Performance Metrics for {model_name}\")\n",
        "    plt.ylabel(\"Score\")\n",
        "    plt.xlabel(\"Metrics\")\n",
        "\n",
        "    for i, value in enumerate(values):\n",
        "        plt.text(i, value + 0.02, f\"{value:.2f}\", ha='center', fontsize=10)\n",
        "\n",
        "    plt.grid(axis='y', linestyle='--', alpha=0.6)\n",
        "    plt.show()\n",
        "\n",
        "\n",
        "for k, v in preds.items():\n",
        "    y_pred = v\n",
        "\n",
        "\n",
        "    acc = accuracy_score(y_test, y_pred)\n",
        "    rec = recall_score(y_test, y_pred, average='macro')\n",
        "    prec = precision_score(y_test, y_pred, average='macro')\n",
        "    f1 = f1_score(y_test, y_pred, average='macro')\n",
        "\n",
        "\n",
        "    metrics = ['Accuracy', 'Recall', 'Precision', 'F1 Score']\n",
        "    values = [acc, rec, prec, f1]\n",
        "\n",
        "    plot_metrics(metrics, values, ML_names[k])\n"
      ],
      "metadata": {
        "colab": {
          "base_uri": "https://localhost:8080/",
          "height": 487
        },
        "id": "n7TzTR-VQUOg",
        "outputId": "6eec18a6-ecbf-4811-ca3f-3250ae124e3a"
      },
      "execution_count": null,
      "outputs": [
        {
          "output_type": "display_data",
          "data": {
            "text/plain": [
              "<Figure size 800x500 with 1 Axes>"
            ],
            "image/png": "[encoded data removed]"
          },
          "metadata": {}
        }
      ]
    }
  ]
}